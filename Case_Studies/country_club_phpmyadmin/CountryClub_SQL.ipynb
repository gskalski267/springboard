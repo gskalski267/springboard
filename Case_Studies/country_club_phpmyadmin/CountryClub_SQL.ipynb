{
 "cells": [
  {
   "cell_type": "markdown",
   "metadata": {},
   "source": [
    "### COUNTRY CLUB - SQL"
   ]
  },
  {
   "cell_type": "markdown",
   "metadata": {},
   "source": [
    "<b>MODULES</b>"
   ]
  },
  {
   "cell_type": "code",
   "execution_count": 1,
   "metadata": {},
   "outputs": [],
   "source": [
    "import sqlite3\n",
    "from sqlite3 import Error"
   ]
  },
  {
   "cell_type": "markdown",
   "metadata": {},
   "source": [
    "<b>FUNCTION DEFINITIONS</b>"
   ]
  },
  {
   "cell_type": "code",
   "execution_count": 8,
   "metadata": {},
   "outputs": [
    {
     "name": "stdout",
     "output_type": "stream",
     "text": [
      "2.6.0\n",
      "2. Query all tasks\n",
      "('Badminton Court', '09', 161, 253.5)\n",
      "('Pool Table', '09', 408, 221.5)\n",
      "('Tennis Court 1', '09', 132, 208.5)\n",
      "('Badminton Court', '08', 132, 207.0)\n",
      "('Tennis Court 2', '09', 126, 207.0)\n",
      "('Snooker Table', '09', 199, 202.0)\n",
      "('Massage Room 1', '09', 191, 201.0)\n",
      "('Table Tennis', '09', 194, 200.0)\n",
      "('Tennis Court 2', '08', 109, 172.5)\n",
      "('Tennis Court 1', '08', 111, 169.5)\n",
      "('Massage Room 1', '08', 153, 158.0)\n",
      "('Snooker Table', '08', 154, 158.0)\n",
      "('Pool Table', '08', 272, 151.5)\n",
      "('Table Tennis', '08', 143, 148.0)\n",
      "('Tennis Court 1', '07', 65, 100.5)\n",
      "('Squash Court', '08', 85, 92.0)\n",
      "('Squash Court', '09', 87, 92.0)\n",
      "('Massage Room 1', '07', 77, 83.0)\n",
      "('Badminton Court', '07', 51, 82.5)\n",
      "('Snooker Table', '07', 68, 70.0)\n",
      "('Tennis Court 2', '07', 41, 61.5)\n",
      "('Pool Table', '07', 103, 55.0)\n",
      "('Table Tennis', '07', 48, 49.0)\n",
      "('Squash Court', '07', 23, 25.0)\n",
      "('Massage Room 2', '09', 14, 14.0)\n",
      "('Massage Room 2', '08', 9, 9.0)\n",
      "('Massage Room 2', '07', 4, 4.0)\n"
     ]
    }
   ],
   "source": [
    "def create_connection(db_file):\n",
    "    \"\"\" create a database connection to the SQLite database\n",
    "        specified by the db_file\n",
    "    :param db_file: database file\n",
    "    :return: Connection object or None\n",
    "    \"\"\"\n",
    "    conn = None\n",
    "    try:\n",
    "        conn = sqlite3.connect(db_file)\n",
    "        print(sqlite3.version)\n",
    "    except Error as e:\n",
    "        print(e)\n",
    " \n",
    "    return conn\n",
    "\n",
    " \n",
    "def select_all_tasks(conn):\n",
    "    \"\"\"\n",
    "    Query all rows in the tasks table\n",
    "    :param conn: the Connection object\n",
    "    :return:\n",
    "    \"\"\"\n",
    "    cur = conn.cursor()\n",
    "    \n",
    "    query1 = \"\"\"\n",
    "        SELECT *\n",
    "        FROM FACILITIES\n",
    "        \"\"\"\n",
    "    \n",
    "    query1 = \"\"\"\n",
    "    SELECT \n",
    "    f.name AS facility_name, \n",
    "    SUM(CASE WHEN b.memid != 0 THEN b.slots*f.membercost ELSE b.slots*f.guestcost END) AS revenue_total\n",
    "    FROM Bookings AS b  \n",
    "    INNER JOIN Facilities AS f ON b.facid = f.facid \n",
    "    GROUP BY f.name\n",
    "    HAVING SUM(CASE WHEN b.memid != 0 THEN b.slots*f.membercost ELSE b.slots*f.guestcost END) < 1000\n",
    "    ORDER BY SUM(CASE WHEN b.memid != 0 THEN b.slots*f.membercost ELSE b.slots*f.guestcost END) \n",
    "        \"\"\"  \n",
    "    \n",
    "    query1 = \"\"\"\n",
    "    SELECT \n",
    "    (m1.firstname || ' ' || m1.surname) AS member_name,\n",
    "    (m2.firstname || ' ' || m2.surname) AS recommended_by \n",
    "    FROM Members AS m1 \n",
    "    LEFT JOIN Members AS m2 ON m1.recommendedby = m2.memid\n",
    "    ORDER BY m1.surname, m1.firstname \n",
    "        \"\"\"\n",
    "    \n",
    "    query1 = \"\"\"\n",
    "SELECT\n",
    "f.name AS facility_name, \n",
    "(m.firstname || ' ' || m.surname) AS member_name,\n",
    "COUNT(b.bookid) AS booking_count,\n",
    "SUM(b.slots*0.5) AS booking_hours\n",
    "FROM Bookings AS b \n",
    "INNER JOIN Members AS m ON b.memid = m.memid\n",
    "INNER JOIN Facilities AS f ON b.facid = f.facid \n",
    "WHERE b.memid != 0 \n",
    "GROUP BY f.name, (m.firstname || ' ' || m.surname) \n",
    "ORDER BY SUM(b.slots*0.5) DESC\n",
    "        \"\"\"\n",
    "    \n",
    "    query1 = \"\"\"\n",
    "SELECT\n",
    "f.name AS facility_name, \n",
    "strftime('%m',b.starttime) AS month_booked,\n",
    "COUNT(b.bookid) AS booking_count,\n",
    "SUM(b.slots*0.5) AS booking_hours\n",
    "FROM Bookings AS b \n",
    "INNER JOIN Members AS m ON b.memid = m.memid\n",
    "INNER JOIN Facilities AS f ON b.facid = f.facid \n",
    "WHERE b.memid != 0 \n",
    "GROUP BY f.name, strftime('%m',b.starttime)\n",
    "ORDER BY SUM(b.slots*0.5) DESC\n",
    "        \"\"\"\n",
    "    \n",
    "    cur.execute(query1)\n",
    " \n",
    "    rows = cur.fetchall()\n",
    " \n",
    "    for row in rows:\n",
    "        print(row)\n",
    "\n",
    "\n",
    "def main():\n",
    "    database = \"sqlite_db_pythonsqlite.db\"\n",
    " \n",
    "    # create a database connection\n",
    "    conn = create_connection(database)\n",
    "    with conn: \n",
    "        print(\"2. Query all tasks\")\n",
    "        select_all_tasks(conn)\n",
    " \n",
    " \n",
    "if __name__ == '__main__':\n",
    "    main()"
   ]
  },
  {
   "cell_type": "code",
   "execution_count": null,
   "metadata": {},
   "outputs": [],
   "source": []
  }
 ],
 "metadata": {
  "kernelspec": {
   "display_name": "Python 3",
   "language": "python",
   "name": "python3"
  },
  "language_info": {
   "codemirror_mode": {
    "name": "ipython",
    "version": 3
   },
   "file_extension": ".py",
   "mimetype": "text/x-python",
   "name": "python",
   "nbconvert_exporter": "python",
   "pygments_lexer": "ipython3",
   "version": "3.7.4"
  }
 },
 "nbformat": 4,
 "nbformat_minor": 2
}
