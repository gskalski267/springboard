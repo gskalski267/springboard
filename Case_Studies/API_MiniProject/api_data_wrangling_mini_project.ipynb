{
 "cells": [
  {
   "cell_type": "markdown",
   "metadata": {},
   "source": [
    "This exercise will require you to pull some data from the Qunadl API. Qaundl is currently the most widely used aggregator of financial market data."
   ]
  },
  {
   "cell_type": "markdown",
   "metadata": {},
   "source": [
    "As a first step, you will need to register a free account on the http://www.quandl.com website."
   ]
  },
  {
   "cell_type": "markdown",
   "metadata": {},
   "source": [
    "After you register, you will be provided with a unique API key, that you should store:"
   ]
  },
  {
   "cell_type": "code",
   "execution_count": 199,
   "metadata": {},
   "outputs": [],
   "source": [
    "# Store the API key as a string - according to PEP8, constants are always named in all upper case\n",
    "API_KEY = ''\n",
    "f01 = open('quandl_config.txt', 'r')\n",
    "API_KEY = f01.readline()\n",
    "f01.close()"
   ]
  },
  {
   "cell_type": "markdown",
   "metadata": {},
   "source": [
    "Qaundl has a large number of data sources, but, unfortunately, most of them require a Premium subscription. Still, there are also a good number of free datasets."
   ]
  },
  {
   "cell_type": "markdown",
   "metadata": {},
   "source": [
    "For this mini project, we will focus on equities data from the Frankfurt Stock Exhange (FSE), which is available for free. We'll try and analyze the stock prices of a company called Carl Zeiss Meditec, which manufactures tools for eye examinations, as well as medical lasers for laser eye surgery: https://www.zeiss.com/meditec/int/home.html. The company is listed under the stock ticker AFX_X."
   ]
  },
  {
   "cell_type": "markdown",
   "metadata": {},
   "source": [
    "You can find the detailed Quandl API instructions here: https://docs.quandl.com/docs/time-series"
   ]
  },
  {
   "cell_type": "markdown",
   "metadata": {},
   "source": [
    "While there is a dedicated Python package for connecting to the Quandl API, we would prefer that you use the *requests* package, which can be easily downloaded using *pip* or *conda*. You can find the documentation for the package here: http://docs.python-requests.org/en/master/ "
   ]
  },
  {
   "cell_type": "markdown",
   "metadata": {},
   "source": [
    "Finally, apart from the *requests* package, you are encouraged to not use any third party Python packages, such as *pandas*, and instead focus on what's available in the Python Standard Library (the *collections* module might come in handy: https://pymotw.com/3/collections/ ).\n",
    "Also, since you won't have access to DataFrames, you are encouraged to us Python's native data structures - preferably dictionaries, though some questions can also be answered using lists.\n",
    "You can read more on these data structures here: https://docs.python.org/3/tutorial/datastructures.html"
   ]
  },
  {
   "cell_type": "markdown",
   "metadata": {},
   "source": [
    "Keep in mind that the JSON responses you will be getting from the API map almost one-to-one to Python's dictionaries. Unfortunately, they can be very nested, so make sure you read up on indexing dictionaries in the documentation provided above."
   ]
  },
  {
   "cell_type": "code",
   "execution_count": 200,
   "metadata": {},
   "outputs": [],
   "source": [
    "# First, import the relevant modules\n",
    "import requests\n",
    "import collections"
   ]
  },
  {
   "cell_type": "code",
   "execution_count": 201,
   "metadata": {},
   "outputs": [
    {
     "name": "stdout",
     "output_type": "stream",
     "text": [
      "<class 'dict'> \n",
      "\n",
      "{'dataset': {'id': 46157199, 'dataset_code': 'SE7', 'database_code': 'XFRA', 'name': 'Seiko Epson Corp (SE7) Adjusted Stock Prices', 'description': ' <b>Ticker</b>: SE7 <br> <br> <b>Exchange</b>: XFRA <br> <br> Columns: <br> <br> Open,High,Low,Close,Volume are adjusted and shown in EUR currency. <br> <br> Adjustment Factor shows the factor by which prices are adjusted on days which adjustments take place <br> <br> Adjustment Type is a number representing the type of adjustment. Refer to documentation for more information on these codes.', 'refreshed_at': '2021-05-20T03:17:51.060Z', 'newest_available_date': '2018-11-30', 'oldest_available_date': '2007-01-02', 'column_names': ['Date', 'Open', 'High', 'Low', 'Close', 'Volume', 'Adjustment Factor', 'Adjustment Type'], 'frequency': 'daily', 'type': 'Time Series', 'premium': True, 'limit': None, 'transform': None, 'column_index': None, 'start_date': '2018-11-29', 'end_date': '2018-11-29', 'data': [['2018-11-29', 13.090447, 13.090447, 13.072454, 13.072454, 0.0, None, None]], 'collapse': None, 'order': None, 'database_id': 15302}}\n"
     ]
    }
   ],
   "source": [
    "# Now, call the Quandl API and pull out a small sample of the data (only one day) to get a glimpse\n",
    "# into the JSON structure that will be returned\n",
    "#url = 'https://www.quandl.com/api/v3/datasets/{database_code}/{dataset_code}/data.json?api_key=' + API_KEY\n",
    "url = 'https://www.quandl.com/api/v3/datasets/XFRA/SE7.json?&start_date=2018-11-29&end_date=2018-11-29&api_key=' + API_KEY\n",
    "r = requests.get(url)\n",
    "json_data = r.json()\n",
    "print(type(json_data),'\\n')\n",
    "print(json_data)"
   ]
  },
  {
   "cell_type": "code",
   "execution_count": 202,
   "metadata": {},
   "outputs": [
    {
     "name": "stdout",
     "output_type": "stream",
     "text": [
      "dataset:  {'id': 46157199, 'dataset_code': 'SE7', 'database_code': 'XFRA', 'name': 'Seiko Epson Corp (SE7) Adjusted Stock Prices', 'description': ' <b>Ticker</b>: SE7 <br> <br> <b>Exchange</b>: XFRA <br> <br> Columns: <br> <br> Open,High,Low,Close,Volume are adjusted and shown in EUR currency. <br> <br> Adjustment Factor shows the factor by which prices are adjusted on days which adjustments take place <br> <br> Adjustment Type is a number representing the type of adjustment. Refer to documentation for more information on these codes.', 'refreshed_at': '2021-05-20T03:17:51.060Z', 'newest_available_date': '2018-11-30', 'oldest_available_date': '2007-01-02', 'column_names': ['Date', 'Open', 'High', 'Low', 'Close', 'Volume', 'Adjustment Factor', 'Adjustment Type'], 'frequency': 'daily', 'type': 'Time Series', 'premium': True, 'limit': None, 'transform': None, 'column_index': None, 'start_date': '2018-11-29', 'end_date': '2018-11-29', 'data': [['2018-11-29', 13.090447, 13.090447, 13.072454, 13.072454, 0.0, None, None]], 'collapse': None, 'order': None, 'database_id': 15302} \n",
      "\n",
      "id:  46157199\n",
      "dataset_code:  SE7\n",
      "database_code:  XFRA\n",
      "name:  Seiko Epson Corp (SE7) Adjusted Stock Prices\n",
      "description:   <b>Ticker</b>: SE7 <br> <br> <b>Exchange</b>: XFRA <br> <br> Columns: <br> <br> Open,High,Low,Close,Volume are adjusted and shown in EUR currency. <br> <br> Adjustment Factor shows the factor by which prices are adjusted on days which adjustments take place <br> <br> Adjustment Type is a number representing the type of adjustment. Refer to documentation for more information on these codes.\n",
      "refreshed_at:  2021-05-20T03:17:51.060Z\n",
      "newest_available_date:  2018-11-30\n",
      "oldest_available_date:  2007-01-02\n",
      "column_names:  ['Date', 'Open', 'High', 'Low', 'Close', 'Volume', 'Adjustment Factor', 'Adjustment Type']\n",
      "frequency:  daily\n",
      "type:  Time Series\n",
      "premium:  True\n",
      "limit:  None\n",
      "transform:  None\n",
      "column_index:  None\n",
      "start_date:  2018-11-29\n",
      "end_date:  2018-11-29\n",
      "data:  [['2018-11-29', 13.090447, 13.090447, 13.072454, 13.072454, 0.0, None, None]]\n",
      "collapse:  None\n",
      "order:  None\n",
      "database_id:  15302\n"
     ]
    }
   ],
   "source": [
    "# Inspect the JSON structure of the object you created, and take note of how nested it is,\n",
    "# as well as the overall structure\n",
    "for k1 in json_data.keys():\n",
    "    print(k1 + ': ', json_data[k1], '\\n')\n",
    "    for k2 in json_data[k1].keys():\n",
    "        print(k2 + ': ', json_data[k1][k2])"
   ]
  },
  {
   "cell_type": "markdown",
   "metadata": {},
   "source": [
    "These are your tasks for this mini project:\n",
    "\n",
    "1. Collect data from the Franfurt Stock Exchange, for the ticker AFX_X, for the whole year 2017 (keep in mind that the date format is YYYY-MM-DD).\n",
    "2. Convert the returned JSON object into a Python dictionary.\n",
    "3. Calculate what the highest and lowest opening prices were for the stock in this period.\n",
    "4. What was the largest change in any one day (based on High and Low price)?\n",
    "5. What was the largest change between any two days (based on Closing Price)?\n",
    "6. What was the average daily trading volume during this year?\n",
    "7. (Optional) What was the median trading volume during this year. (Note: you may need to implement your own function for calculating the median.)"
   ]
  },
  {
   "cell_type": "code",
   "execution_count": 203,
   "metadata": {},
   "outputs": [
    {
     "name": "stdout",
     "output_type": "stream",
     "text": [
      "{'quandl_error': {'code': 'QECx02', 'message': 'You have submitted an incorrect Quandl code. Please check your Quandl codes and try again.'}}\n",
      "{'quandl_error': {'code': 'QEPx04', 'message': 'You do not have permission to view this dataset. Please subscribe to this database to get access.'}}\n"
     ]
    }
   ],
   "source": [
    "url = 'https://www.quandl.com/api/v3/datasets/XFRA/AFX_X.json?&start_date=2017-11-29&end_date=2017-11-29&api_key=' + API_KEY\n",
    "r = requests.get(url)\n",
    "json_data = r.json()\n",
    "print(json_data)\n",
    "url = 'https://www.quandl.com/api/v3/datasets/XFRA/AFX.json?&start_date=2017-11-29&end_date=2017-11-29&api_key=' + API_KEY\n",
    "r = requests.get(url)\n",
    "json_data = r.json()\n",
    "print(json_data)"
   ]
  },
  {
   "cell_type": "markdown",
   "metadata": {},
   "source": [
    "<b><font color='blue'> \n",
    "Ticker AFX_X is not valid. Ticker AFX is not accessible with my permissions.<br>\n",
    "I will use a different ticker, 'ADS', for the company Adidas.\n",
    "</font></b>"
   ]
  },
  {
   "cell_type": "code",
   "execution_count": 204,
   "metadata": {},
   "outputs": [
    {
     "name": "stdout",
     "output_type": "stream",
     "text": [
      "{'dataset': {'id': 46112467, 'dataset_code': 'ADS', 'database_code': 'XFRA', 'name': 'Adidas AG (ADS) Adjusted Stock Prices', 'description': ' <b>Ticker</b>: ADS <br> <br> <b>Exchange</b>: XFRA <br> <br> Columns: <br> <br> Open,High,Low,Close,Volume are adjusted and shown in EUR currency. <br> <br> Adjustment Factor shows the factor by which prices are adjusted on days which adjustments take place <br> <br> Adjustment Type is a number representing the type of adjustment. Refer to documentation for more information on these codes.', 'refreshed_at': '2021-05-20T03:12:39.640Z', 'newest_available_date': '2018-11-30', 'oldest_available_date': '2007-01-02', 'column_names': ['Date', 'Open', 'High', 'Low', 'Close', 'Volume', 'Adjustment Factor', 'Adjustment Type'], 'frequency': 'daily', 'type': 'Time Series', 'premium': True, 'limit': None, 'transform': None, 'column_index': None, 'start_date': '2017-01-01', 'end_date': '2017-01-05', 'data': [['2017-01-05', 138.76112, 139.44956, 137.318538, 137.318538, 1506.0, None, None], ['2017-01-04', 141.972888, 142.504215, 138.771594, 138.771594, 3538.0, None, None], ['2017-01-03', 144.684751, 144.819011, 141.877668, 142.190941, 1393.0, None, None], ['2017-01-02', 142.544207, 144.574296, 142.544207, 143.783018, 5334.0, None, None]], 'collapse': None, 'order': None, 'database_id': 15302}}\n"
     ]
    }
   ],
   "source": [
    "url = 'https://www.quandl.com/api/v3/datasets/XFRA/ADS.json?&start_date=2017-01-01&end_date=2017-01-05&api_key=' + API_KEY\n",
    "r = requests.get(url)\n",
    "json_data = r.json()\n",
    "print(json_data)"
   ]
  },
  {
   "cell_type": "markdown",
   "metadata": {},
   "source": [
    "<b><font color='blue'> \n",
    "1. Ticker 'ADS' 2017 full year data from the Franfurt Stock Exchange.\n",
    "</font></b>"
   ]
  },
  {
   "cell_type": "code",
   "execution_count": 205,
   "metadata": {},
   "outputs": [],
   "source": [
    "url = 'https://www.quandl.com/api/v3/datasets/XFRA/ADS.json?&start_date=2017-01-01&end_date=2017-12-31&api_key=' + API_KEY\n",
    "r = requests.get(url)"
   ]
  },
  {
   "cell_type": "markdown",
   "metadata": {},
   "source": [
    "<b><font color='blue'> \n",
    "2. Convert the returned JSON object into a Python dictionary.\n",
    "</font></b>"
   ]
  },
  {
   "cell_type": "code",
   "execution_count": 206,
   "metadata": {},
   "outputs": [
    {
     "name": "stdout",
     "output_type": "stream",
     "text": [
      "<class 'dict'>\n",
      "['dataset']\n",
      "['id', 'dataset_code', 'database_code', 'name', 'description', 'refreshed_at', 'newest_available_date', 'oldest_available_date', 'column_names', 'frequency', 'type', 'premium', 'limit', 'transform', 'column_index', 'start_date', 'end_date', 'data', 'collapse', 'order', 'database_id']\n",
      "['Date', 'Open', 'High', 'Low', 'Close', 'Volume', 'Adjustment Factor', 'Adjustment Type']\n",
      "[['2017-12-29', 162.513872, 162.513872, 161.125301, 161.149375, 1060.0, None, None], ['2017-12-28', 163.601041, 163.601041, 161.951511, 162.221136, 1019.0, None, None], ['2017-12-27', 164.250068, 164.250068, 163.0849, 163.599115, 1121.0, None, None]]\n"
     ]
    }
   ],
   "source": [
    "dict01 = r.json()\n",
    "print(type(dict01))\n",
    "key_list01 = list(dict01.keys())\n",
    "print(key_list01)\n",
    "dict02 = dict01[key_list01[0]]\n",
    "key_list02 = list(dict02.keys())\n",
    "print(key_list02)\n",
    "col_names = dict02['column_names']\n",
    "price_data = dict02['data']\n",
    "print(col_names)\n",
    "print(price_data[0:3])"
   ]
  },
  {
   "cell_type": "code",
   "execution_count": 207,
   "metadata": {},
   "outputs": [
    {
     "name": "stdout",
     "output_type": "stream",
     "text": [
      "{'Open': 142.544207, 'High': 144.574296, 'Low': 142.544207, 'Close': 143.783018, 'Volume': 5334.0}\n",
      "{'Open': 144.684751, 'High': 144.819011, 'Low': 141.877668, 'Close': 142.190941, 'Volume': 1393.0}\n",
      "{'Open': 141.972888, 'High': 142.504215, 'Low': 138.771594, 'Close': 138.771594, 'Volume': 3538.0}\n"
     ]
    }
   ],
   "source": [
    "#price_dict01 = {p_data[0]:p_data[1:6] for p_data in price_data}\n",
    "#price_dict02 = {col_names[x]:price_data[0][x] for x in range(1,6)}\n",
    "price_dict01 = {p_data[0]:{col_names[x]:p_data[x] for x in range(1,6)} for p_data in price_data}\n",
    "print(price_dict01['2017-01-02'])\n",
    "print(price_dict01['2017-01-03'])\n",
    "print(price_dict01['2017-01-04'])"
   ]
  },
  {
   "cell_type": "markdown",
   "metadata": {},
   "source": [
    "<b><font color='blue'> \n",
    "3. Calculate what the highest and lowest opening prices were for the stock in this period.\n",
    "</font></b>"
   ]
  },
  {
   "cell_type": "code",
   "execution_count": 208,
   "metadata": {},
   "outputs": [
    {
     "name": "stdout",
     "output_type": "stream",
     "text": [
      "Min, max open prices:  137.31   191.92\n"
     ]
    }
   ],
   "source": [
    "price_open = [v['Open'] for v in price_dict01.values()]\n",
    "print('Min, max open prices: ', round(min(price_open),2),' ', round(max(price_open),2))"
   ]
  },
  {
   "cell_type": "markdown",
   "metadata": {},
   "source": [
    "<b><font color='blue'> \n",
    "4. What was the largest change in any one day (based on High and Low price)?\n",
    "</font></b>"
   ]
  },
  {
   "cell_type": "code",
   "execution_count": 209,
   "metadata": {},
   "outputs": [
    {
     "name": "stdout",
     "output_type": "stream",
     "text": [
      "Max intraday high-low change:  10.96\n"
     ]
    }
   ],
   "source": [
    "price_change = [v['High']-v['Low'] for v in price_dict01.values()]\n",
    "print('Max intraday high-low change: ', round(max(price_change),2))"
   ]
  },
  {
   "cell_type": "markdown",
   "metadata": {},
   "source": [
    "<b><font color='blue'> \n",
    "5. What was the largest change between any two days (based on Closing Price)?\n",
    "</font></b>"
   ]
  },
  {
   "cell_type": "code",
   "execution_count": 210,
   "metadata": {},
   "outputs": [
    {
     "name": "stdout",
     "output_type": "stream",
     "text": [
      "Largest day-over-day price change is:  13.9\n"
     ]
    }
   ],
   "source": [
    "price_sort_dict01 = collections.OrderedDict(sorted(price_dict01.items()))\n",
    "datekey_min = min(price_sort_dict01.keys())\n",
    "datekey_max = max(price_sort_dict01.keys())\n",
    "price_t = [v['Close'] for k,v in price_sort_dict01.items() if k != datekey_max]\n",
    "price_tplus1 = [v['Close'] for k,v in price_sort_dict01.items() if k != datekey_min]\n",
    "price_diff = [abs(price_tplus1[i] - price_t[i]) for i in range(0,len(price_tplus1))]\n",
    "print('Largest day-over-day price change is: ', round(max(price_diff),2))"
   ]
  },
  {
   "cell_type": "markdown",
   "metadata": {},
   "source": [
    "<b><font color='blue'> \n",
    "6. What was the average daily trading volume during this year?\n",
    "</font></b>"
   ]
  },
  {
   "cell_type": "code",
   "execution_count": 211,
   "metadata": {},
   "outputs": [
    {
     "name": "stdout",
     "output_type": "stream",
     "text": [
      "Average daily trading volume: 1638.32 over 260 days\n"
     ]
    }
   ],
   "source": [
    "daily_volume = [v['Volume'] for v in price_dict01.values()]\n",
    "print('Average daily trading volume:', round(sum(daily_volume)/len(daily_volume),2), 'over', len(daily_volume), 'days')"
   ]
  },
  {
   "cell_type": "markdown",
   "metadata": {},
   "source": [
    "<b><font color='blue'> \n",
    "7. (Optional) What was the median trading volume during this year. (Note: you may need to implement your own function for calculating the median.)\n",
    "</font></b>"
   ]
  }
 ],
 "metadata": {
  "kernelspec": {
   "display_name": "Python 3",
   "language": "python",
   "name": "python3"
  },
  "language_info": {
   "codemirror_mode": {
    "name": "ipython",
    "version": 3
   },
   "file_extension": ".py",
   "mimetype": "text/x-python",
   "name": "python",
   "nbconvert_exporter": "python",
   "pygments_lexer": "ipython3",
   "version": "3.7.4"
  }
 },
 "nbformat": 4,
 "nbformat_minor": 2
}
