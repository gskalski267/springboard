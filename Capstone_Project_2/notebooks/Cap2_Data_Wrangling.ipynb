{
 "cells": [
  {
   "cell_type": "markdown",
   "metadata": {},
   "source": [
    "# Capstone 2: Data wrangling\n",
    "<b>PROJECT GOAL</b><br>\n",
    "The overall goal of this project is to understand and predict a time series on delinquency rate (response variable) for lease contracts originated by U.S. banks.  Time series for several predictor (exogenous) variables will be included in an attempt to identify economic variables that may help explain and thus predict future lease delinquency rates.<br>\n",
    "\n",
    "<b>DATA</b><br>\n",
    "<i>all series will be converted to quarterly data as of each calendar quarter end</i><br>\n",
    "\n",
    "<i>response variable</i><br>\n",
    "'delinq' = Lease Delinquency Rate, all banks; www.federalreserve.gov/datadownload/)<br><br>\n",
    "<i>predictor (exogenous) variables (features)</i><br>\n",
    "'ls_rcvbl' = Lease Receivable Balance, all banks; www.federalreserve.gov/datadownload/)<br>\n",
    "'pmi_man' = ISM Purchasing Managers Index (PMI); www.quandl.com/data/ISM/MAN_PMI-PMI-Composite-Index<br>\n",
    "'cons_sent' = Univ of Michigan Index of Consumer Sentiment; www.sca.isr.umich.edu/tables.html <br>\n",
    "'close_price' = S&P 500 Price Index; finance.yahoo.com<br>\n",
    "'stdtght_ci_smll_netpct' = Loan Standard Tightening, net percentage, commercial and industrial loans from small banks; www.federalreserve.gov/datadownload/)<br>\n",
    "'tot_bus_inv' = Total Business Inventories; www.census.gov/economic-indicators/ <br>\n",
    "'ret_sales' = Retail Sales; www.census.gov/economic-indicators/ <br>\n",
    "\n",
    "<b>DATA WRANGLING NOTEBOOK</b><br>\n",
    "The purpose of this notebook is to:\n",
    "<ol type=\"1\">\n",
    "  <li>load data sets from source files into Python data objects</li>\n",
    "  <li>standardize date nomenclature and frequency over data sets (lease delinquency is measured quarterly)</li>\n",
    "  <li>describe the data with simple plots and summary statistics</li>\n",
    "  <li>join all data into a single data frame, joining on period quarter-end</li>\n",
    "  <li>store the organized data in Python-native pickle format to facilitate downstream analyses</li>\n",
    "</ol> "
   ]
  },
  {
   "cell_type": "markdown",
   "metadata": {},
   "source": [
    "## 1 Import Python Modules"
   ]
  },
  {
   "cell_type": "code",
   "execution_count": 1,
   "metadata": {},
   "outputs": [],
   "source": [
    "import os\n",
    "import pandas as pd\n",
    "import matplotlib.pyplot as plt"
   ]
  },
  {
   "cell_type": "markdown",
   "metadata": {},
   "source": [
    "## 2 Load data from source files"
   ]
  },
  {
   "cell_type": "markdown",
   "metadata": {},
   "source": [
    "<b>DATA FILES - ECONOMIC SERIES</b>"
   ]
  },
  {
   "cell_type": "code",
   "execution_count": 2,
   "metadata": {},
   "outputs": [
    {
     "name": "stdout",
     "output_type": "stream",
     "text": [
      "CENSUS_retsales_sa_20210523.csv\n",
      "CENSUS_totbusinv_sa_20210523.csv\n",
      "FRB_CHGDEL_delinq_lease_sa_20210523.csv\n",
      "FRB_CHGDEL_leasercvbl_20210523.csv\n",
      "FRB_SLOOS_loanstdrd_20210523.csv\n",
      "ISM-MAN_ism_man_pmi_20210523.csv\n",
      "UMICH_conssent_20210523.csv\n"
     ]
    }
   ],
   "source": [
    "path_raw_data = '../data/'\n",
    "#data_label_list = [ 'retsales', 'totbusinv', 'delinq_lease', 'leasercvbl', 'loanstdrd', 'ism_man_pmi', 'conssent' ]\n",
    "for flnm in os.listdir(path_raw_data):\n",
    "    if flnm.endswith('.csv'):\n",
    "        print(flnm)"
   ]
  },
  {
   "cell_type": "markdown",
   "metadata": {},
   "source": [
    "<b>DELINQUENCY - LEASES - ALL BANKS</b>"
   ]
  },
  {
   "cell_type": "code",
   "execution_count": 3,
   "metadata": {},
   "outputs": [
    {
     "data": {
      "text/html": [
       "<div>\n",
       "<style scoped>\n",
       "    .dataframe tbody tr th:only-of-type {\n",
       "        vertical-align: middle;\n",
       "    }\n",
       "\n",
       "    .dataframe tbody tr th {\n",
       "        vertical-align: top;\n",
       "    }\n",
       "\n",
       "    .dataframe thead th {\n",
       "        text-align: right;\n",
       "    }\n",
       "</style>\n",
       "<table border=\"1\" class=\"dataframe\">\n",
       "  <thead>\n",
       "    <tr style=\"text-align: right;\">\n",
       "      <th></th>\n",
       "      <th>Time Period</th>\n",
       "      <th>STFBQDR%STFBAILR_XEOP_MA.Q</th>\n",
       "    </tr>\n",
       "  </thead>\n",
       "  <tbody>\n",
       "    <tr>\n",
       "      <th>0</th>\n",
       "      <td>1987Q1</td>\n",
       "      <td>2.49</td>\n",
       "    </tr>\n",
       "    <tr>\n",
       "      <th>1</th>\n",
       "      <td>1987Q2</td>\n",
       "      <td>2.25</td>\n",
       "    </tr>\n",
       "    <tr>\n",
       "      <th>2</th>\n",
       "      <td>1987Q3</td>\n",
       "      <td>2.13</td>\n",
       "    </tr>\n",
       "  </tbody>\n",
       "</table>\n",
       "</div>"
      ],
      "text/plain": [
       "  Time Period  STFBQDR%STFBAILR_XEOP_MA.Q\n",
       "0      1987Q1                        2.49\n",
       "1      1987Q2                        2.25\n",
       "2      1987Q3                        2.13"
      ]
     },
     "execution_count": 3,
     "metadata": {},
     "output_type": "execute_result"
    }
   ],
   "source": [
    "df_delinq_lease = pd.DataFrame()\n",
    "flnm = 'FRB_CHGDEL_delinq_lease_sa_20210523.csv'\n",
    "df_delinq_lease = pd.read_csv(path_raw_data + flnm,skiprows=5)\n",
    "df_delinq_lease.head(3)"
   ]
  },
  {
   "cell_type": "markdown",
   "metadata": {},
   "source": [
    "<b>LEASE RECEIVABLES - ALL BANKS</b>"
   ]
  },
  {
   "cell_type": "code",
   "execution_count": 4,
   "metadata": {},
   "outputs": [
    {
     "data": {
      "text/html": [
       "<div>\n",
       "<style scoped>\n",
       "    .dataframe tbody tr th:only-of-type {\n",
       "        vertical-align: middle;\n",
       "    }\n",
       "\n",
       "    .dataframe tbody tr th {\n",
       "        vertical-align: top;\n",
       "    }\n",
       "\n",
       "    .dataframe thead th {\n",
       "        text-align: right;\n",
       "    }\n",
       "</style>\n",
       "<table border=\"1\" class=\"dataframe\">\n",
       "  <thead>\n",
       "    <tr style=\"text-align: right;\">\n",
       "      <th></th>\n",
       "      <th>Time Period</th>\n",
       "      <th>STFBAILR_XEOP_MA_N.Q</th>\n",
       "    </tr>\n",
       "  </thead>\n",
       "  <tbody>\n",
       "    <tr>\n",
       "      <th>0</th>\n",
       "      <td>1985Q1</td>\n",
       "      <td>20573</td>\n",
       "    </tr>\n",
       "    <tr>\n",
       "      <th>1</th>\n",
       "      <td>1985Q2</td>\n",
       "      <td>21443</td>\n",
       "    </tr>\n",
       "    <tr>\n",
       "      <th>2</th>\n",
       "      <td>1985Q3</td>\n",
       "      <td>22086</td>\n",
       "    </tr>\n",
       "  </tbody>\n",
       "</table>\n",
       "</div>"
      ],
      "text/plain": [
       "  Time Period  STFBAILR_XEOP_MA_N.Q\n",
       "0      1985Q1                 20573\n",
       "1      1985Q2                 21443\n",
       "2      1985Q3                 22086"
      ]
     },
     "execution_count": 4,
     "metadata": {},
     "output_type": "execute_result"
    }
   ],
   "source": [
    "df_leasercvbl = pd.DataFrame()\n",
    "flnm = 'FRB_CHGDEL_leasercvbl_20210523.csv'\n",
    "df_leasercvbl = pd.read_csv(path_raw_data + flnm,skiprows=5)\n",
    "df_leasercvbl.head(3)"
   ]
  },
  {
   "cell_type": "markdown",
   "metadata": {},
   "source": [
    "<b>LOAN STANDARDS - ALL BANKS</b>"
   ]
  },
  {
   "cell_type": "code",
   "execution_count": 5,
   "metadata": {},
   "outputs": [
    {
     "data": {
      "text/html": [
       "<div>\n",
       "<style scoped>\n",
       "    .dataframe tbody tr th:only-of-type {\n",
       "        vertical-align: middle;\n",
       "    }\n",
       "\n",
       "    .dataframe tbody tr th {\n",
       "        vertical-align: top;\n",
       "    }\n",
       "\n",
       "    .dataframe thead th {\n",
       "        text-align: right;\n",
       "    }\n",
       "</style>\n",
       "<table border=\"1\" class=\"dataframe\">\n",
       "  <thead>\n",
       "    <tr style=\"text-align: right;\">\n",
       "      <th></th>\n",
       "      <th>Time Period</th>\n",
       "      <th>SUBLPDCISS_N.Q</th>\n",
       "    </tr>\n",
       "  </thead>\n",
       "  <tbody>\n",
       "    <tr>\n",
       "      <th>0</th>\n",
       "      <td>1990Q2</td>\n",
       "      <td>52.7</td>\n",
       "    </tr>\n",
       "    <tr>\n",
       "      <th>1</th>\n",
       "      <td>1990Q3</td>\n",
       "      <td>33.9</td>\n",
       "    </tr>\n",
       "    <tr>\n",
       "      <th>2</th>\n",
       "      <td>1990Q4</td>\n",
       "      <td>40.7</td>\n",
       "    </tr>\n",
       "  </tbody>\n",
       "</table>\n",
       "</div>"
      ],
      "text/plain": [
       "  Time Period  SUBLPDCISS_N.Q\n",
       "0      1990Q2            52.7\n",
       "1      1990Q3            33.9\n",
       "2      1990Q4            40.7"
      ]
     },
     "execution_count": 5,
     "metadata": {},
     "output_type": "execute_result"
    }
   ],
   "source": [
    "df_loanstdrd = pd.DataFrame()\n",
    "flnm = 'FRB_SLOOS_loanstdrd_20210523.csv'\n",
    "df_loanstdrd = pd.read_csv(path_raw_data + flnm,skiprows=5)\n",
    "#keep commercial & industrial small business, only\n",
    "df_loanstdrd.drop(columns=['SUBLPDCILS_N.Q','SUBLPDCLCS_N.Q'],inplace=True)\n",
    "df_loanstdrd.head(3)"
   ]
  },
  {
   "cell_type": "markdown",
   "metadata": {},
   "source": [
    "<b>ISM PURCHASING MANAGERS INDEX - MANUFACTURING</b>"
   ]
  },
  {
   "cell_type": "code",
   "execution_count": 6,
   "metadata": {},
   "outputs": [
    {
     "data": {
      "text/html": [
       "<div>\n",
       "<style scoped>\n",
       "    .dataframe tbody tr th:only-of-type {\n",
       "        vertical-align: middle;\n",
       "    }\n",
       "\n",
       "    .dataframe tbody tr th {\n",
       "        vertical-align: top;\n",
       "    }\n",
       "\n",
       "    .dataframe thead th {\n",
       "        text-align: right;\n",
       "    }\n",
       "</style>\n",
       "<table border=\"1\" class=\"dataframe\">\n",
       "  <thead>\n",
       "    <tr style=\"text-align: right;\">\n",
       "      <th></th>\n",
       "      <th>Date</th>\n",
       "      <th>PMI</th>\n",
       "    </tr>\n",
       "  </thead>\n",
       "  <tbody>\n",
       "    <tr>\n",
       "      <th>0</th>\n",
       "      <td>2021-04-01</td>\n",
       "      <td>60.7</td>\n",
       "    </tr>\n",
       "    <tr>\n",
       "      <th>1</th>\n",
       "      <td>2021-03-01</td>\n",
       "      <td>64.7</td>\n",
       "    </tr>\n",
       "    <tr>\n",
       "      <th>2</th>\n",
       "      <td>2021-02-01</td>\n",
       "      <td>60.8</td>\n",
       "    </tr>\n",
       "  </tbody>\n",
       "</table>\n",
       "</div>"
      ],
      "text/plain": [
       "         Date   PMI\n",
       "0  2021-04-01  60.7\n",
       "1  2021-03-01  64.7\n",
       "2  2021-02-01  60.8"
      ]
     },
     "execution_count": 6,
     "metadata": {},
     "output_type": "execute_result"
    }
   ],
   "source": [
    "df_ism_man_pmi = pd.DataFrame()\n",
    "flnm = 'ISM-MAN_ism_man_pmi_20210523.csv'\n",
    "df_ism_man_pmi = pd.read_csv(path_raw_data + flnm,skiprows=0)\n",
    "df_ism_man_pmi.head(3)"
   ]
  },
  {
   "cell_type": "markdown",
   "metadata": {},
   "source": [
    "<b>TOTAL BUSINESS INVENTORIES</b>"
   ]
  },
  {
   "cell_type": "code",
   "execution_count": 7,
   "metadata": {},
   "outputs": [
    {
     "data": {
      "text/html": [
       "<div>\n",
       "<style scoped>\n",
       "    .dataframe tbody tr th:only-of-type {\n",
       "        vertical-align: middle;\n",
       "    }\n",
       "\n",
       "    .dataframe tbody tr th {\n",
       "        vertical-align: top;\n",
       "    }\n",
       "\n",
       "    .dataframe thead th {\n",
       "        text-align: right;\n",
       "    }\n",
       "</style>\n",
       "<table border=\"1\" class=\"dataframe\">\n",
       "  <thead>\n",
       "    <tr style=\"text-align: right;\">\n",
       "      <th></th>\n",
       "      <th>Period</th>\n",
       "      <th>Value</th>\n",
       "    </tr>\n",
       "  </thead>\n",
       "  <tbody>\n",
       "    <tr>\n",
       "      <th>0</th>\n",
       "      <td>Jan-1992</td>\n",
       "      <td>808292.0</td>\n",
       "    </tr>\n",
       "    <tr>\n",
       "      <th>1</th>\n",
       "      <td>Feb-1992</td>\n",
       "      <td>809600.0</td>\n",
       "    </tr>\n",
       "    <tr>\n",
       "      <th>2</th>\n",
       "      <td>Mar-1992</td>\n",
       "      <td>812725.0</td>\n",
       "    </tr>\n",
       "  </tbody>\n",
       "</table>\n",
       "</div>"
      ],
      "text/plain": [
       "     Period     Value\n",
       "0  Jan-1992  808292.0\n",
       "1  Feb-1992  809600.0\n",
       "2  Mar-1992  812725.0"
      ]
     },
     "execution_count": 7,
     "metadata": {},
     "output_type": "execute_result"
    }
   ],
   "source": [
    "df_totbusinv = pd.DataFrame()\n",
    "flnm = 'CENSUS_totbusinv_sa_20210523.csv'\n",
    "df_totbusinv = pd.read_csv(path_raw_data + flnm,skiprows=7)\n",
    "df_totbusinv.head(3)"
   ]
  },
  {
   "cell_type": "markdown",
   "metadata": {},
   "source": [
    "<b>RETAIL SALES</b>"
   ]
  },
  {
   "cell_type": "code",
   "execution_count": 8,
   "metadata": {},
   "outputs": [
    {
     "data": {
      "text/html": [
       "<div>\n",
       "<style scoped>\n",
       "    .dataframe tbody tr th:only-of-type {\n",
       "        vertical-align: middle;\n",
       "    }\n",
       "\n",
       "    .dataframe tbody tr th {\n",
       "        vertical-align: top;\n",
       "    }\n",
       "\n",
       "    .dataframe thead th {\n",
       "        text-align: right;\n",
       "    }\n",
       "</style>\n",
       "<table border=\"1\" class=\"dataframe\">\n",
       "  <thead>\n",
       "    <tr style=\"text-align: right;\">\n",
       "      <th></th>\n",
       "      <th>Period</th>\n",
       "      <th>Value</th>\n",
       "    </tr>\n",
       "  </thead>\n",
       "  <tbody>\n",
       "    <tr>\n",
       "      <th>0</th>\n",
       "      <td>Jan-1992</td>\n",
       "      <td>164095.0</td>\n",
       "    </tr>\n",
       "    <tr>\n",
       "      <th>1</th>\n",
       "      <td>Feb-1992</td>\n",
       "      <td>164213.0</td>\n",
       "    </tr>\n",
       "    <tr>\n",
       "      <th>2</th>\n",
       "      <td>Mar-1992</td>\n",
       "      <td>163721.0</td>\n",
       "    </tr>\n",
       "  </tbody>\n",
       "</table>\n",
       "</div>"
      ],
      "text/plain": [
       "     Period     Value\n",
       "0  Jan-1992  164095.0\n",
       "1  Feb-1992  164213.0\n",
       "2  Mar-1992  163721.0"
      ]
     },
     "execution_count": 8,
     "metadata": {},
     "output_type": "execute_result"
    }
   ],
   "source": [
    "df_retsales = pd.DataFrame()\n",
    "flnm = 'CENSUS_retsales_sa_20210523.csv'\n",
    "df_retsales = pd.read_csv(path_raw_data + flnm,skiprows=7)\n",
    "df_retsales.head(3)"
   ]
  },
  {
   "cell_type": "markdown",
   "metadata": {},
   "source": [
    "<b>CONSUMER SENTIMENT</b>"
   ]
  },
  {
   "cell_type": "code",
   "execution_count": 9,
   "metadata": {},
   "outputs": [
    {
     "data": {
      "text/html": [
       "<div>\n",
       "<style scoped>\n",
       "    .dataframe tbody tr th:only-of-type {\n",
       "        vertical-align: middle;\n",
       "    }\n",
       "\n",
       "    .dataframe tbody tr th {\n",
       "        vertical-align: top;\n",
       "    }\n",
       "\n",
       "    .dataframe thead th {\n",
       "        text-align: right;\n",
       "    }\n",
       "</style>\n",
       "<table border=\"1\" class=\"dataframe\">\n",
       "  <thead>\n",
       "    <tr style=\"text-align: right;\">\n",
       "      <th></th>\n",
       "      <th>QUARTER</th>\n",
       "      <th>YYYY</th>\n",
       "      <th>ICS_ALL</th>\n",
       "    </tr>\n",
       "  </thead>\n",
       "  <tbody>\n",
       "    <tr>\n",
       "      <th>0</th>\n",
       "      <td>Jan.-Mar.</td>\n",
       "      <td>1960</td>\n",
       "      <td>100.0</td>\n",
       "    </tr>\n",
       "    <tr>\n",
       "      <th>1</th>\n",
       "      <td>Apr.-June</td>\n",
       "      <td>1960</td>\n",
       "      <td>93.3</td>\n",
       "    </tr>\n",
       "    <tr>\n",
       "      <th>2</th>\n",
       "      <td>Jul.-Sep.</td>\n",
       "      <td>1960</td>\n",
       "      <td>97.2</td>\n",
       "    </tr>\n",
       "  </tbody>\n",
       "</table>\n",
       "</div>"
      ],
      "text/plain": [
       "     QUARTER  YYYY  ICS_ALL\n",
       "0  Jan.-Mar.  1960    100.0\n",
       "1  Apr.-June  1960     93.3\n",
       "2  Jul.-Sep.  1960     97.2"
      ]
     },
     "execution_count": 9,
     "metadata": {},
     "output_type": "execute_result"
    }
   ],
   "source": [
    "df_consent = pd.DataFrame()\n",
    "flnm = 'UMICH_conssent_20210523.csv'\n",
    "df_consent = pd.read_csv(path_raw_data + flnm,skiprows=0)\n",
    "df_consent.head(3)"
   ]
  },
  {
   "cell_type": "markdown",
   "metadata": {},
   "source": [
    "<b>S&P 500 INDEX PRICE</b>"
   ]
  },
  {
   "cell_type": "code",
   "execution_count": 10,
   "metadata": {},
   "outputs": [
    {
     "data": {
      "text/html": [
       "<div>\n",
       "<style scoped>\n",
       "    .dataframe tbody tr th:only-of-type {\n",
       "        vertical-align: middle;\n",
       "    }\n",
       "\n",
       "    .dataframe tbody tr th {\n",
       "        vertical-align: top;\n",
       "    }\n",
       "\n",
       "    .dataframe thead th {\n",
       "        text-align: right;\n",
       "    }\n",
       "</style>\n",
       "<table border=\"1\" class=\"dataframe\">\n",
       "  <thead>\n",
       "    <tr style=\"text-align: right;\">\n",
       "      <th></th>\n",
       "      <th>Close</th>\n",
       "    </tr>\n",
       "    <tr>\n",
       "      <th>Date</th>\n",
       "      <th></th>\n",
       "    </tr>\n",
       "  </thead>\n",
       "  <tbody>\n",
       "    <tr>\n",
       "      <th>1987-01-02</th>\n",
       "      <td>246.449997</td>\n",
       "    </tr>\n",
       "    <tr>\n",
       "      <th>1987-01-05</th>\n",
       "      <td>252.190002</td>\n",
       "    </tr>\n",
       "    <tr>\n",
       "      <th>1987-01-06</th>\n",
       "      <td>252.779999</td>\n",
       "    </tr>\n",
       "  </tbody>\n",
       "</table>\n",
       "</div>"
      ],
      "text/plain": [
       "                 Close\n",
       "Date                  \n",
       "1987-01-02  246.449997\n",
       "1987-01-05  252.190002\n",
       "1987-01-06  252.779999"
      ]
     },
     "execution_count": 10,
     "metadata": {},
     "output_type": "execute_result"
    }
   ],
   "source": [
    "#one-time download from yahoo.finance, store in *.pkl, then load to dataframe\n",
    "#import yfinance as yf\n",
    "#df_sp500 = yf.download(tickers='^GSPC',interval='1d',auto_adjust=True,start='1987-01-01',end='2021-04-30')\n",
    "#df_sp500.to_pickle('../raw_data/sp500index_daily_20210531.pkl')\n",
    "df_sp500 = pd.read_pickle('../data/sp500index_daily_20210531.pkl')\n",
    "df_sp500.drop(columns=['Open','High','Low','Volume'],inplace=True)\n",
    "df_sp500.head(3)"
   ]
  },
  {
   "cell_type": "markdown",
   "metadata": {},
   "source": [
    "## 3 Standardize Data By Quarterly Dates"
   ]
  },
  {
   "cell_type": "markdown",
   "metadata": {},
   "source": [
    "<b>DELINQUENCY - LEASES - ALL BANKS</b>"
   ]
  },
  {
   "cell_type": "code",
   "execution_count": 11,
   "metadata": {},
   "outputs": [
    {
     "name": "stdout",
     "output_type": "stream",
     "text": [
      "<class 'pandas.core.frame.DataFrame'>\n",
      "RangeIndex: 137 entries, 0 to 136\n",
      "Data columns (total 3 columns):\n",
      " #   Column        Non-Null Count  Dtype  \n",
      "---  ------        --------------  -----  \n",
      " 0   date_orig     137 non-null    object \n",
      " 1   delinq        137 non-null    float64\n",
      " 2   date_qtr_stg  137 non-null    object \n",
      "dtypes: float64(1), object(2)\n",
      "memory usage: 3.3+ KB\n",
      "None\n",
      "  date_orig  delinq date_qtr_stg\n",
      "0    1987Q1    2.49       1987Q1\n",
      "1    1987Q2    2.25       1987Q2\n",
      "2    1987Q3    2.13       1987Q3\n",
      "3    1987Q4    1.88       1987Q4\n",
      "4    1988Q1    1.79       1988Q1\n",
      "5    1988Q2    1.73       1988Q2\n"
     ]
    }
   ],
   "source": [
    "#rename columns\n",
    "#del df_delinq_lease['date_qtr_stg']\n",
    "df_delinq_lease.columns = ['date_orig', 'delinq']\n",
    "\n",
    "#create new date by quarter label, sort asc\n",
    "df_delinq_lease['date_qtr_stg'] = df_delinq_lease['date_orig']\n",
    "df_delinq_lease.sort_values(by=['date_qtr_stg'],inplace=True,ascending=True)\n",
    "\n",
    "#view structure\n",
    "df_delinq_lease.reset_index(drop=True, inplace=True)\n",
    "print(df_delinq_lease.info())\n",
    "print(df_delinq_lease.head(6))"
   ]
  },
  {
   "cell_type": "markdown",
   "metadata": {},
   "source": [
    "<b>LEASE RECEIVABLES - ALL BANKS</b>"
   ]
  },
  {
   "cell_type": "code",
   "execution_count": 12,
   "metadata": {},
   "outputs": [
    {
     "name": "stdout",
     "output_type": "stream",
     "text": [
      "<class 'pandas.core.frame.DataFrame'>\n",
      "RangeIndex: 145 entries, 0 to 144\n",
      "Data columns (total 3 columns):\n",
      " #   Column        Non-Null Count  Dtype \n",
      "---  ------        --------------  ----- \n",
      " 0   date_orig     145 non-null    object\n",
      " 1   ls_rcvbl      145 non-null    int64 \n",
      " 2   date_qtr_stg  145 non-null    object\n",
      "dtypes: int64(1), object(2)\n",
      "memory usage: 3.5+ KB\n",
      "None\n",
      "  date_orig  ls_rcvbl date_qtr_stg\n",
      "0    1985Q1     20573       1985Q1\n",
      "1    1985Q2     21443       1985Q2\n",
      "2    1985Q3     22086       1985Q3\n",
      "3    1985Q4     24305       1985Q4\n",
      "4    1986Q1     24752       1986Q1\n",
      "5    1986Q2     24983       1986Q2\n"
     ]
    }
   ],
   "source": [
    "#rename columns\n",
    "#del df_leasercvbl['date_qtr_stg']\n",
    "df_leasercvbl.columns = ['date_orig', 'ls_rcvbl']\n",
    "\n",
    "#create new date by quarter label, sort asc\n",
    "df_leasercvbl['date_qtr_stg'] = df_leasercvbl['date_orig']\n",
    "df_leasercvbl.sort_values(by=['date_qtr_stg'],inplace=True,ascending=True)\n",
    "\n",
    "#view structure\n",
    "df_leasercvbl.reset_index(drop=True, inplace=True)\n",
    "print(df_leasercvbl.info())\n",
    "print(df_leasercvbl.head(6))"
   ]
  },
  {
   "cell_type": "markdown",
   "metadata": {},
   "source": [
    "<b>LOAN STANDARDS - ALL BANKS</b>"
   ]
  },
  {
   "cell_type": "code",
   "execution_count": 13,
   "metadata": {},
   "outputs": [
    {
     "name": "stdout",
     "output_type": "stream",
     "text": [
      "<class 'pandas.core.frame.DataFrame'>\n",
      "RangeIndex: 125 entries, 0 to 124\n",
      "Data columns (total 3 columns):\n",
      " #   Column                  Non-Null Count  Dtype  \n",
      "---  ------                  --------------  -----  \n",
      " 0   date_orig               125 non-null    object \n",
      " 1   stdtght_ci_smll_netpct  125 non-null    float64\n",
      " 2   date_qtr_stg            125 non-null    object \n",
      "dtypes: float64(1), object(2)\n",
      "memory usage: 3.1+ KB\n",
      "None\n",
      "  date_orig  stdtght_ci_smll_netpct date_qtr_stg\n",
      "0    1990Q2                    52.7       1990Q2\n",
      "1    1990Q3                    33.9       1990Q3\n",
      "2    1990Q4                    40.7       1990Q4\n",
      "3    1991Q1                    31.6       1991Q1\n",
      "4    1991Q2                     6.9       1991Q2\n",
      "5    1991Q3                     8.8       1991Q3\n"
     ]
    }
   ],
   "source": [
    "#rename columns\n",
    "#del df_loanstdrd['date_qtr_stg']\n",
    "df_loanstdrd.columns = ['date_orig', 'stdtght_ci_smll_netpct']\n",
    "\n",
    "#create new date by quarter label, sort asc\n",
    "df_loanstdrd['date_qtr_stg'] = df_loanstdrd['date_orig'] \n",
    "df_loanstdrd.sort_values(by=['date_qtr_stg'],inplace=True,ascending=True)\n",
    "\n",
    "#view structure\n",
    "df_loanstdrd.reset_index(drop=True, inplace=True)\n",
    "print(df_loanstdrd.info())\n",
    "print(df_loanstdrd.head(6))"
   ]
  },
  {
   "cell_type": "markdown",
   "metadata": {},
   "source": [
    "<b>ISM PURCHASING MANAGERS INDEX - MANUFACTURING</b>"
   ]
  },
  {
   "cell_type": "code",
   "execution_count": 14,
   "metadata": {},
   "outputs": [
    {
     "name": "stdout",
     "output_type": "stream",
     "text": [
      "<class 'pandas.core.frame.DataFrame'>\n",
      "RangeIndex: 294 entries, 0 to 293\n",
      "Data columns (total 3 columns):\n",
      " #   Column        Non-Null Count  Dtype  \n",
      "---  ------        --------------  -----  \n",
      " 0   date_orig     294 non-null    object \n",
      " 1   pmi_man       294 non-null    float64\n",
      " 2   date_qtr_stg  294 non-null    object \n",
      "dtypes: float64(1), object(2)\n",
      "memory usage: 7.0+ KB\n",
      "None\n",
      "    date_orig  pmi_man date_qtr_stg\n",
      "0  1948-01-01     51.7       1947Q4\n",
      "1  1948-04-01     45.4       1948Q1\n",
      "2  1948-07-01     48.4       1948Q2\n",
      "3  1948-10-01     47.2       1948Q3\n",
      "4  1949-01-01     32.9       1948Q4\n",
      "5  1949-04-01     35.5       1949Q1\n"
     ]
    }
   ],
   "source": [
    "#rename columns\n",
    "#del df_ism_man_pmi['date_qtr_stg']\n",
    "df_ism_man_pmi.columns = ['date_orig', 'pmi_man']\n",
    "#df_ism_man_pmi_bkp = df_ism_man_pmi\n",
    "\n",
    "#get the quarter-end dates mm in {04,07,10,01}, drop remaining\n",
    "is_qtr01_end = (df_ism_man_pmi['date_orig'].str[5:7] == '04')\n",
    "is_qtr02_end = (df_ism_man_pmi['date_orig'].str[5:7] == '07')\n",
    "is_qtr03_end = (df_ism_man_pmi['date_orig'].str[5:7] == '10')\n",
    "is_qtr04_end = (df_ism_man_pmi['date_orig'].str[5:7] == '01')\n",
    "df_ism_man_pmi = df_ism_man_pmi[is_qtr01_end | is_qtr02_end | is_qtr03_end | is_qtr04_end]\n",
    "\n",
    "#create new date by quarter label, sort asc\n",
    "df_ism_man_pmi.loc[is_qtr01_end,'date_qtr_stg'] = df_ism_man_pmi.loc[is_qtr01_end,'date_orig'].str[:4] + 'Q1'\n",
    "df_ism_man_pmi.loc[is_qtr02_end,'date_qtr_stg'] = df_ism_man_pmi.loc[is_qtr02_end,'date_orig'].str[:4] + 'Q2'\n",
    "df_ism_man_pmi.loc[is_qtr03_end,'date_qtr_stg'] = df_ism_man_pmi.loc[is_qtr03_end,'date_orig'].str[:4] + 'Q3'\n",
    "df_ism_man_pmi.loc[is_qtr04_end,'date_qtr_stg'] = (df_ism_man_pmi.loc[is_qtr04_end,'date_orig'].str[:4].astype(int) - 1).astype(str) + 'Q4'\n",
    "df_ism_man_pmi.sort_values(by=['date_qtr_stg'],inplace=True,ascending=True)\n",
    "\n",
    "#view structure\n",
    "df_ism_man_pmi.reset_index(drop=True, inplace=True)\n",
    "print(df_ism_man_pmi.info())\n",
    "print(df_ism_man_pmi.head(6))"
   ]
  },
  {
   "cell_type": "markdown",
   "metadata": {},
   "source": [
    "<b>TOTAL BUSINESS INVENTORIES</b>"
   ]
  },
  {
   "cell_type": "code",
   "execution_count": 15,
   "metadata": {},
   "outputs": [
    {
     "name": "stdout",
     "output_type": "stream",
     "text": [
      "<class 'pandas.core.frame.DataFrame'>\n",
      "RangeIndex: 120 entries, 0 to 119\n",
      "Data columns (total 3 columns):\n",
      " #   Column        Non-Null Count  Dtype  \n",
      "---  ------        --------------  -----  \n",
      " 0   date_orig     120 non-null    object \n",
      " 1   tot_bus_inv   117 non-null    float64\n",
      " 2   date_qtr_stg  120 non-null    object \n",
      "dtypes: float64(1), object(2)\n",
      "memory usage: 2.9+ KB\n",
      "None\n",
      "  date_orig  tot_bus_inv date_qtr_stg\n",
      "0  Mar-1992     812725.0       1992Q1\n",
      "1  Jun-1992     820447.0       1992Q2\n",
      "2  Sep-1992     827513.0       1992Q3\n",
      "3  Dec-1992     835800.0       1992Q4\n",
      "4  Mar-1993     844806.0       1993Q1\n",
      "5  Jun-1993     849135.0       1993Q2\n"
     ]
    }
   ],
   "source": [
    "#rename columns\n",
    "#del df_totbusinv['date_qtr_stg']\n",
    "df_totbusinv.columns = ['date_orig', 'tot_bus_inv']\n",
    "#df_totbusinv_bkp = df_totbusinv\n",
    "\n",
    "#get the quarter-end dates mmm in {Mar,Jun,Sep,Dec}, drop remaining\n",
    "is_qtr01_end = (df_totbusinv['date_orig'].str[0:3] == 'Mar')\n",
    "is_qtr02_end = (df_totbusinv['date_orig'].str[0:3] == 'Jun')\n",
    "is_qtr03_end = (df_totbusinv['date_orig'].str[0:3] == 'Sep')\n",
    "is_qtr04_end = (df_totbusinv['date_orig'].str[0:3] == 'Dec')\n",
    "df_totbusinv = df_totbusinv[is_qtr01_end | is_qtr02_end | is_qtr03_end | is_qtr04_end]\n",
    "\n",
    "#create new date by quarter label, sort asc\n",
    "df_totbusinv.loc[is_qtr01_end,'date_qtr_stg'] = df_totbusinv.loc[is_qtr01_end,'date_orig'].str[4:8] + 'Q1'\n",
    "df_totbusinv.loc[is_qtr02_end,'date_qtr_stg'] = df_totbusinv.loc[is_qtr02_end,'date_orig'].str[4:8] + 'Q2'\n",
    "df_totbusinv.loc[is_qtr03_end,'date_qtr_stg'] = df_totbusinv.loc[is_qtr03_end,'date_orig'].str[4:8] + 'Q3'\n",
    "df_totbusinv.loc[is_qtr04_end,'date_qtr_stg'] = df_totbusinv.loc[is_qtr04_end,'date_orig'].str[4:8] + 'Q4'\n",
    "df_totbusinv.sort_values(by=['date_qtr_stg'],inplace=True,ascending=True)\n",
    "\n",
    "#view structure\n",
    "df_totbusinv.reset_index(drop=True, inplace=True)\n",
    "print(df_totbusinv.info())\n",
    "print(df_totbusinv.head(6))"
   ]
  },
  {
   "cell_type": "markdown",
   "metadata": {},
   "source": [
    "<b>RETAIL SALES</b>"
   ]
  },
  {
   "cell_type": "code",
   "execution_count": 16,
   "metadata": {},
   "outputs": [
    {
     "name": "stdout",
     "output_type": "stream",
     "text": [
      "<class 'pandas.core.frame.DataFrame'>\n",
      "RangeIndex: 120 entries, 0 to 119\n",
      "Data columns (total 3 columns):\n",
      " #   Column        Non-Null Count  Dtype  \n",
      "---  ------        --------------  -----  \n",
      " 0   date_orig     120 non-null    object \n",
      " 1   ret_sales     117 non-null    float64\n",
      " 2   date_qtr_stg  120 non-null    object \n",
      "dtypes: float64(1), object(2)\n",
      "memory usage: 2.9+ KB\n",
      "None\n",
      "  date_orig  ret_sales date_qtr_stg\n",
      "0  Mar-1992   163721.0       1992Q1\n",
      "1  Jun-1992   166077.0       1992Q2\n",
      "2  Sep-1992   169400.0       1992Q3\n",
      "3  Dec-1992   173105.0       1992Q4\n",
      "4  Mar-1993   172306.0       1993Q1\n",
      "5  Jun-1993   178157.0       1993Q2\n"
     ]
    }
   ],
   "source": [
    "#rename columns\n",
    "#del df_retsales['date_qtr_stg']\n",
    "df_retsales.columns = ['date_orig', 'ret_sales']\n",
    "#df_retsales_bkp = df_retsales\n",
    "\n",
    "#get the quarter-end dates mmm in {Mar,Jun,Sep,Dec}, drop remaining\n",
    "is_qtr01_end = (df_retsales['date_orig'].str[0:3] == 'Mar')\n",
    "is_qtr02_end = (df_retsales['date_orig'].str[0:3] == 'Jun')\n",
    "is_qtr03_end = (df_retsales['date_orig'].str[0:3] == 'Sep')\n",
    "is_qtr04_end = (df_retsales['date_orig'].str[0:3] == 'Dec')\n",
    "df_retsales = df_retsales[is_qtr01_end | is_qtr02_end | is_qtr03_end | is_qtr04_end]\n",
    "\n",
    "#create new date by quarter label, sort asc\n",
    "df_retsales.loc[is_qtr01_end,'date_qtr_stg'] = df_retsales.loc[is_qtr01_end,'date_orig'].str[4:8] + 'Q1'\n",
    "df_retsales.loc[is_qtr02_end,'date_qtr_stg'] = df_retsales.loc[is_qtr02_end,'date_orig'].str[4:8] + 'Q2'\n",
    "df_retsales.loc[is_qtr03_end,'date_qtr_stg'] = df_retsales.loc[is_qtr03_end,'date_orig'].str[4:8] + 'Q3'\n",
    "df_retsales.loc[is_qtr04_end,'date_qtr_stg'] = df_retsales.loc[is_qtr04_end,'date_orig'].str[4:8] + 'Q4'\n",
    "df_retsales.sort_values(by=['date_qtr_stg'],inplace=True,ascending=True)\n",
    "\n",
    "#view structure\n",
    "df_retsales.reset_index(drop=True, inplace=True)\n",
    "print(df_retsales.info())\n",
    "print(df_retsales.head(6))"
   ]
  },
  {
   "cell_type": "markdown",
   "metadata": {},
   "source": [
    "<b>CONSUMER SENTIMENT</b>"
   ]
  },
  {
   "cell_type": "code",
   "execution_count": 17,
   "metadata": {},
   "outputs": [
    {
     "name": "stdout",
     "output_type": "stream",
     "text": [
      "<class 'pandas.core.frame.DataFrame'>\n",
      "RangeIndex: 245 entries, 0 to 244\n",
      "Data columns (total 4 columns):\n",
      " #   Column        Non-Null Count  Dtype  \n",
      "---  ------        --------------  -----  \n",
      " 0   qtr_orig      245 non-null    object \n",
      " 1   year_orig     245 non-null    int64  \n",
      " 2   cons_sent     245 non-null    float64\n",
      " 3   date_qtr_stg  245 non-null    object \n",
      "dtypes: float64(1), int64(1), object(2)\n",
      "memory usage: 7.8+ KB\n",
      "None\n",
      "    qtr_orig  year_orig  cons_sent date_qtr_stg\n",
      "0  Jan.-Mar.       1960      100.0       1960Q1\n",
      "1  Apr.-June       1960       93.3       1960Q2\n",
      "2  Jul.-Sep.       1960       97.2       1960Q3\n",
      "3  Oct.-Dec.       1960       90.1       1960Q4\n",
      "4  Jan.-Mar.       1961       91.6       1961Q1\n",
      "5  Apr.-June       1961       92.5       1961Q2\n"
     ]
    }
   ],
   "source": [
    "#rename columns\n",
    "#del df_consent['date_qtr_stg']\n",
    "df_consent.columns = ['qtr_orig', 'year_orig', 'cons_sent']\n",
    "#df_consent_bkp = df_consent\n",
    "\n",
    "#get the quarter-end dates mmm in {Mar,Jun,Sep,Dec}, drop remaining\n",
    "is_qtr01_end = (df_consent['qtr_orig'].str[5:8] == 'Mar')\n",
    "is_qtr02_end = (df_consent['qtr_orig'].str[5:8] == 'Jun')\n",
    "is_qtr03_end = (df_consent['qtr_orig'].str[5:8] == 'Sep')\n",
    "is_qtr04_end = (df_consent['qtr_orig'].str[5:8] == 'Dec')\n",
    "df_consent = df_consent[is_qtr01_end | is_qtr02_end | is_qtr03_end | is_qtr04_end]\n",
    "\n",
    "#create new date by quarter label, sort asc\n",
    "df_consent.loc[is_qtr01_end,'date_qtr_stg'] = df_consent.loc[is_qtr01_end,'year_orig'].apply(str) + 'Q1'\n",
    "df_consent.loc[is_qtr02_end,'date_qtr_stg'] = df_consent.loc[is_qtr02_end,'year_orig'].apply(str) + 'Q2'\n",
    "df_consent.loc[is_qtr03_end,'date_qtr_stg'] = df_consent.loc[is_qtr03_end,'year_orig'].apply(str) + 'Q3'\n",
    "df_consent.loc[is_qtr04_end,'date_qtr_stg'] = df_consent.loc[is_qtr04_end,'year_orig'].apply(str) + 'Q4'\n",
    "df_consent.sort_values(by=['date_qtr_stg'],inplace=True,ascending=True)\n",
    "\n",
    "#view structure\n",
    "df_consent.reset_index(drop=True, inplace=True)\n",
    "print(df_consent.info())\n",
    "print(df_consent.head(6))"
   ]
  },
  {
   "cell_type": "markdown",
   "metadata": {},
   "source": [
    "<b>S&P 500 INDEX PRICE</b>"
   ]
  },
  {
   "cell_type": "code",
   "execution_count": 18,
   "metadata": {},
   "outputs": [
    {
     "name": "stdout",
     "output_type": "stream",
     "text": [
      "<class 'pandas.core.frame.DataFrame'>\n",
      "RangeIndex: 137 entries, 0 to 136\n",
      "Data columns (total 3 columns):\n",
      " #   Column        Non-Null Count  Dtype         \n",
      "---  ------        --------------  -----         \n",
      " 0   close_price   137 non-null    float64       \n",
      " 1   date          137 non-null    datetime64[ns]\n",
      " 2   date_qtr_stg  137 non-null    object        \n",
      "dtypes: datetime64[ns](1), float64(1), object(1)\n",
      "memory usage: 3.3+ KB\n",
      "None\n",
      "   close_price       date date_qtr_stg\n",
      "0   291.700012 1987-03-31       1987Q1\n",
      "1   304.000000 1987-06-30       1987Q2\n",
      "2   321.829987 1987-09-30       1987Q3\n",
      "3   247.080002 1987-12-31       1987Q4\n",
      "4   258.890015 1988-03-31       1988Q1\n",
      "5   273.500000 1988-06-30       1988Q2\n"
     ]
    }
   ],
   "source": [
    "#rename columns\n",
    "#df_sp500_bkp = df_sp500\n",
    "#df_sp500 = df_sp500_bkp\n",
    "df_sp500['date'] = df_sp500.index\n",
    "df_sp500.columns = ['close_price','date']\n",
    "\n",
    "#get the last-day-in-month dates, then quarter-end dates mm in {03,06,09,12}, drop remaining\n",
    "is_month_end = df_sp500['date'] == df_sp500.groupby([df_sp500.index.year,df_sp500.index.month])['date'].transform(max)\n",
    "is_qtr01_end = (df_sp500['date'].dt.month == 3)\n",
    "is_qtr02_end = (df_sp500['date'].dt.month == 6)\n",
    "is_qtr03_end = (df_sp500['date'].dt.month == 9)\n",
    "is_qtr04_end = (df_sp500['date'].dt.month == 12)\n",
    "df_sp500 = df_sp500[is_month_end & (is_qtr01_end | is_qtr02_end | is_qtr03_end | is_qtr04_end)]\n",
    "\n",
    "#create new date by quarter label, sort asc\n",
    "df_sp500.loc[is_qtr01_end,'date_qtr_stg'] = df_sp500.loc[is_qtr01_end,'date'].dt.strftime('%Y') + 'Q1'\n",
    "df_sp500.loc[is_qtr02_end,'date_qtr_stg'] = df_sp500.loc[is_qtr02_end,'date'].dt.strftime('%Y') + 'Q2'\n",
    "df_sp500.loc[is_qtr03_end,'date_qtr_stg'] = df_sp500.loc[is_qtr03_end,'date'].dt.strftime('%Y') + 'Q3'\n",
    "df_sp500.loc[is_qtr04_end,'date_qtr_stg'] = df_sp500.loc[is_qtr04_end,'date'].dt.strftime('%Y') + 'Q4'\n",
    "df_sp500.sort_values(by=['date_qtr_stg'],inplace=True,ascending=True)\n",
    "\n",
    "#view structure\n",
    "df_sp500.reset_index(drop=True, inplace=True)\n",
    "print(df_sp500.info())\n",
    "print(df_sp500.head(6))"
   ]
  },
  {
   "cell_type": "markdown",
   "metadata": {},
   "source": [
    "## 3 Initial Description of the Data"
   ]
  },
  {
   "cell_type": "markdown",
   "metadata": {},
   "source": [
    "<b>PLOTS OF SERIES BY QUARTER<b>"
   ]
  },
  {
   "cell_type": "code",
   "execution_count": 19,
   "metadata": {},
   "outputs": [
    {
     "data": {
      "text/plain": [
       "<AxesSubplot:xlabel='date_qtr_stg'>"
      ]
     },
     "execution_count": 19,
     "metadata": {},
     "output_type": "execute_result"
    },
    {
     "data": {
      "image/png": "[encoded data removed]",
      "text/plain": [
       "<Figure size 1080x1080 with 8 Axes>"
      ]
     },
     "metadata": {
      "needs_background": "light"
     },
     "output_type": "display_data"
    }
   ],
   "source": [
    "# plot >= 1987Q1 (first deliquency data point)\n",
    "date_qtr_start = '1990Q1'\n",
    "fig, axes = plt.subplots(nrows=8,ncols=1,figsize=(15,15))\n",
    "\n",
    "df_delinq_lease.loc[df_delinq_lease['date_qtr_stg'] >= date_qtr_start].plot(ax=axes[0],y='delinq',x='date_qtr_stg',kind='line')\n",
    "df_leasercvbl.loc[df_leasercvbl['date_qtr_stg'] >= date_qtr_start].plot(ax=axes[1],y='ls_rcvbl',x='date_qtr_stg',kind='line')\n",
    "df_loanstdrd.loc[df_loanstdrd['date_qtr_stg'] >= date_qtr_start].plot(ax=axes[2],y='stdtght_ci_smll_netpct',x='date_qtr_stg',kind='line')\n",
    "df_ism_man_pmi.loc[df_ism_man_pmi['date_qtr_stg'] >= date_qtr_start].plot(ax=axes[3],y='pmi_man',x='date_qtr_stg',kind='line')\n",
    "df_totbusinv.loc[df_totbusinv['date_qtr_stg'] >= date_qtr_start].plot(ax=axes[4],y='tot_bus_inv',x='date_qtr_stg',kind='line')\n",
    "df_retsales.loc[df_retsales['date_qtr_stg'] >= date_qtr_start].plot(ax=axes[5],y='ret_sales',x='date_qtr_stg',kind='line')\n",
    "df_consent.loc[df_consent['date_qtr_stg'] >= date_qtr_start].plot(ax=axes[6],y='cons_sent',x='date_qtr_stg',kind='line')\n",
    "df_sp500.loc[df_sp500['date_qtr_stg'] >= date_qtr_start].plot(ax=axes[7],y='close_price',x='date_qtr_stg',kind='line')"
   ]
  },
  {
   "cell_type": "markdown",
   "metadata": {},
   "source": [
    "<b>DESCRIPTIVE STATISTICS<b>"
   ]
  },
  {
   "cell_type": "code",
   "execution_count": 20,
   "metadata": {},
   "outputs": [
    {
     "name": "stdout",
     "output_type": "stream",
     "text": [
      "DELINQUENCY - LEASES - ALL BANKS\n",
      "Missing data: 0\n",
      "First Date: 1987Q1 Last Date: 2021Q1\n",
      "Summary Statistics:\n",
      "            delinq\n",
      "count  137.000000\n",
      "mean     1.437664\n",
      "std      0.522992\n",
      "min      0.680000\n",
      "25%      1.030000\n",
      "50%      1.320000\n",
      "75%      1.840000\n",
      "max      2.750000 \n",
      "\n",
      "LEASE RECEIVABLES - ALL BANKS\n",
      "Missing data: 0\n",
      "First Date: 1985Q1 Last Date: 2021Q1\n",
      "Summary Statistics:\n",
      "             ls_rcvbl\n",
      "count     145.000000\n",
      "mean    95334.358621\n",
      "std     44618.106683\n",
      "min     20573.000000\n",
      "25%     38015.000000\n",
      "50%    108119.000000\n",
      "75%    126205.000000\n",
      "max    164819.000000 \n",
      "\n",
      "LOAN STANDARDS - ALL BANKS\n",
      "Missing data: 0\n",
      "First Date: 1990Q2 Last Date: 2021Q2\n",
      "Summary Statistics:\n",
      "        stdtght_ci_smll_netpct\n",
      "count               125.00000\n",
      "mean                  5.59840\n",
      "std                  19.68556\n",
      "min                 -24.10000\n",
      "25%                  -7.00000\n",
      "50%                  -1.70000\n",
      "75%                   8.80000\n",
      "max                  74.50000 \n",
      "\n",
      "ISM PURCHASING MANAGERS INDEX - MANUFACTURING\n",
      "Missing data: 0\n",
      "First Date: 1947Q4 Last Date: 2021Q1\n",
      "Summary Statistics:\n",
      "           pmi_man\n",
      "count  294.000000\n",
      "mean    52.841837\n",
      "std      7.258342\n",
      "min     30.700000\n",
      "25%     49.125000\n",
      "50%     53.500000\n",
      "75%     57.600000\n",
      "max     77.500000 \n",
      "\n",
      "TOTAL BUSINESS INVENTORIES\n",
      "Missing data: 0\n",
      "First Date: 1992Q1 Last Date: 2021Q4\n",
      "Summary Statistics:\n",
      "         tot_bus_inv\n",
      "count  1.170000e+02\n",
      "mean   1.386439e+06\n",
      "std    3.675698e+05\n",
      "min    8.127250e+05\n",
      "25%    1.098782e+06\n",
      "50%    1.340265e+06\n",
      "75%    1.723664e+06\n",
      "max    2.044524e+06 \n",
      "\n",
      "RETAIL SALES\n",
      "Missing data: 0\n",
      "First Date: 1992Q1 Last Date: 2021Q4\n",
      "Summary Statistics:\n",
      "            ret_sales\n",
      "count     117.000000\n",
      "mean   342417.247863\n",
      "std    106696.380270\n",
      "min    163721.000000\n",
      "25%    255449.000000\n",
      "50%    343998.000000\n",
      "75%    423362.000000\n",
      "max    619787.000000 \n",
      "\n",
      "CONSUMER SENTIMENT\n",
      "Missing data: 0\n",
      "First Date: 1960Q1 Last Date: 2021Q1\n",
      "Summary Statistics:\n",
      "          year_orig   cons_sent\n",
      "count   245.000000  245.000000\n",
      "mean   1990.126531   86.772653\n",
      "std      17.717857   11.923442\n",
      "min    1960.000000   54.400000\n",
      "25%    1975.000000   77.600000\n",
      "50%    1990.000000   90.700000\n",
      "75%    2005.000000   95.000000\n",
      "max    2021.000000  110.100000 \n",
      "\n",
      "S&P 500 INDEX PRICE\n",
      "Missing data: 0\n",
      "First Date: 1987Q1 Last Date: 2021Q1\n",
      "Summary Statistics:\n",
      "        close_price\n",
      "count   137.000000\n",
      "mean   1266.468612\n",
      "std     811.935080\n",
      "min     247.080002\n",
      "25%     584.409973\n",
      "50%    1160.329956\n",
      "75%    1503.349976\n",
      "max    3972.889893 \n",
      "\n"
     ]
    }
   ],
   "source": [
    "print('DELINQUENCY - LEASES - ALL BANKS')\n",
    "print('Missing data:',df_delinq_lease[df_delinq_lease['delinq'].isna()]['delinq'].count())\n",
    "print('First Date:',df_delinq_lease['date_qtr_stg'].min(),'Last Date:',df_delinq_lease['date_qtr_stg'].max())\n",
    "print('Summary Statistics:\\n',df_delinq_lease.describe(),'\\n')\n",
    "\n",
    "print('LEASE RECEIVABLES - ALL BANKS')\n",
    "print('Missing data:',df_leasercvbl[df_leasercvbl['ls_rcvbl'].isna()]['ls_rcvbl'].count())\n",
    "print('First Date:',df_leasercvbl['date_qtr_stg'].min(),'Last Date:',df_leasercvbl['date_qtr_stg'].max())\n",
    "print('Summary Statistics:\\n',df_leasercvbl.describe(),'\\n')\n",
    "\n",
    "print('LOAN STANDARDS - ALL BANKS')\n",
    "print('Missing data:',df_loanstdrd[df_loanstdrd['stdtght_ci_smll_netpct'].isna()]['stdtght_ci_smll_netpct'].count())\n",
    "print('First Date:',df_loanstdrd['date_qtr_stg'].min(),'Last Date:',df_loanstdrd['date_qtr_stg'].max())\n",
    "print('Summary Statistics:\\n',df_loanstdrd.describe(),'\\n')\n",
    "\n",
    "print('ISM PURCHASING MANAGERS INDEX - MANUFACTURING')\n",
    "print('Missing data:',df_ism_man_pmi[df_ism_man_pmi['pmi_man'].isna()]['pmi_man'].count())\n",
    "print('First Date:',df_ism_man_pmi['date_qtr_stg'].min(),'Last Date:',df_ism_man_pmi['date_qtr_stg'].max())\n",
    "print('Summary Statistics:\\n',df_ism_man_pmi.describe(),'\\n')\n",
    "\n",
    "print('TOTAL BUSINESS INVENTORIES')\n",
    "print('Missing data:',df_totbusinv[df_totbusinv['tot_bus_inv'].isna()]['tot_bus_inv'].count())\n",
    "print('First Date:',df_totbusinv['date_qtr_stg'].min(),'Last Date:',df_totbusinv['date_qtr_stg'].max())\n",
    "print('Summary Statistics:\\n',df_totbusinv.describe(),'\\n')\n",
    "\n",
    "print('RETAIL SALES')\n",
    "print('Missing data:',df_retsales[df_retsales['ret_sales'].isna()]['ret_sales'].count())\n",
    "print('First Date:',df_retsales['date_qtr_stg'].min(),'Last Date:',df_retsales['date_qtr_stg'].max())\n",
    "print('Summary Statistics:\\n',df_retsales.describe(),'\\n')\n",
    "\n",
    "print('CONSUMER SENTIMENT')\n",
    "print('Missing data:',df_consent[df_consent['cons_sent'].isna()]['cons_sent'].count())\n",
    "print('First Date:',df_consent['date_qtr_stg'].min(),'Last Date:',df_consent['date_qtr_stg'].max())\n",
    "print('Summary Statistics:\\n',df_consent.describe(),'\\n')\n",
    "\n",
    "print('S&P 500 INDEX PRICE')\n",
    "print('Missing data:',df_sp500[df_sp500['close_price'].isna()]['close_price'].count())\n",
    "print('First Date:',df_sp500['date_qtr_stg'].min(),'Last Date:',df_sp500['date_qtr_stg'].max())\n",
    "print('Summary Statistics:\\n',df_sp500.describe(),'\\n')"
   ]
  },
  {
   "cell_type": "markdown",
   "metadata": {},
   "source": [
    "## 4 Merge, Store Data in Python-native File"
   ]
  },
  {
   "cell_type": "markdown",
   "metadata": {},
   "source": [
    "<b>MERGE DATA BY JOINING ON QUARTER-END DATE<b>"
   ]
  },
  {
   "cell_type": "code",
   "execution_count": 21,
   "metadata": {},
   "outputs": [
    {
     "name": "stdout",
     "output_type": "stream",
     "text": [
      "  date_qtr_stg date_qtr  delinq  ls_rcvbl  stdtght_ci_smll_netpct  pmi_man  \\\n",
      "0       1987Q1   1987Q1    2.49     27783                     NaN     55.5   \n",
      "1       1987Q2   1987Q2    2.25     28299                     NaN     57.5   \n",
      "2       1987Q3   1987Q3    2.13     28825                     NaN     60.7   \n",
      "3       1987Q4   1987Q4    1.88     31086                     NaN     57.5   \n",
      "4       1988Q1   1988Q1    1.79     31225                     NaN     55.8   \n",
      "\n",
      "   tot_bus_inv  ret_sales  cons_sent  close_price  \n",
      "0          NaN        NaN       90.5   291.700012  \n",
      "1          NaN        NaN       91.8   304.000000  \n",
      "2          NaN        NaN       93.9   321.829987  \n",
      "3          NaN        NaN       86.4   247.080002  \n",
      "4          NaN        NaN       92.3   258.890015  \n",
      "    date_qtr_stg date_qtr  delinq  ls_rcvbl  stdtght_ci_smll_netpct  pmi_man  \\\n",
      "132       2020Q1   2020Q1    1.28    122808                    -1.4     41.7   \n",
      "133       2020Q2   2020Q2    1.53    120977                    39.7     53.7   \n",
      "134       2020Q3   2020Q3    1.45    118749                    70.0     58.8   \n",
      "135       2020Q4   2020Q4    1.44    117244                    31.3     58.7   \n",
      "136       2021Q1   2021Q1    1.48    114807                    11.4     60.7   \n",
      "\n",
      "     tot_bus_inv  ret_sales  cons_sent  close_price  \n",
      "132    2014717.0   480407.0       96.4  2584.590088  \n",
      "133    1921026.0   526860.0       74.0  3100.290039  \n",
      "134    1943907.0   549528.0       75.6  3363.000000  \n",
      "135    1984955.0   535972.0       79.8  3756.070068  \n",
      "136    2014334.0   619787.0       80.2  3972.889893  \n"
     ]
    }
   ],
   "source": [
    "df_delinq_merged = pd.DataFrame()\n",
    "df_delinq_merged['date_qtr_stg'] = df_delinq_lease.loc[:,'date_qtr_stg']\n",
    "df_delinq_merged['date_qtr'] = pd.to_datetime(df_delinq_merged['date_qtr_stg']).dt.to_period('Q')\n",
    "#df_delinq_merged['date_qtr'] = pd.to_datetime(df_delinq_merged['date_qtr_stg'],format='%Y-0%q')\n",
    "\n",
    "#lease deliquency\n",
    "df_delinq_merged = pd.merge(df_delinq_merged, df_delinq_lease[['date_qtr_stg','delinq']], on=['date_qtr_stg'], how='left')\n",
    "#lease receivable\n",
    "df_delinq_merged = pd.merge(df_delinq_merged, df_leasercvbl[['date_qtr_stg','ls_rcvbl']], on=['date_qtr_stg'], how='left')\n",
    "#loan standards\n",
    "df_delinq_merged = pd.merge(df_delinq_merged, df_loanstdrd[['date_qtr_stg','stdtght_ci_smll_netpct']], on=['date_qtr_stg'], how='left')\n",
    "#ism pmi\n",
    "df_delinq_merged = pd.merge(df_delinq_merged, df_ism_man_pmi[['date_qtr_stg','pmi_man']], on=['date_qtr_stg'], how='left')\n",
    "#business inventories\n",
    "df_delinq_merged = pd.merge(df_delinq_merged, df_totbusinv[['date_qtr_stg','tot_bus_inv']], on=['date_qtr_stg'], how='left')\n",
    "#retail sales\n",
    "df_delinq_merged = pd.merge(df_delinq_merged, df_retsales[['date_qtr_stg','ret_sales']], on=['date_qtr_stg'], how='left')\n",
    "#consumer sentiment\n",
    "df_delinq_merged = pd.merge(df_delinq_merged, df_consent[['date_qtr_stg','cons_sent']], on=['date_qtr_stg'], how='left')\n",
    "#s&p 500 price index\n",
    "df_delinq_merged = pd.merge(df_delinq_merged, df_sp500[['date_qtr_stg','close_price']], on=['date_qtr_stg'], how='left')\n",
    "\n",
    "print(df_delinq_merged.head())\n",
    "print(df_delinq_merged.tail())"
   ]
  },
  {
   "cell_type": "markdown",
   "metadata": {},
   "source": [
    "<b>SAVE DATA TO PYTHON-NATIVE PICKLE FILE<b>"
   ]
  },
  {
   "cell_type": "code",
   "execution_count": 22,
   "metadata": {},
   "outputs": [],
   "source": [
    "df_delinq_merged.to_pickle('../data/df_delinq_merged.pkl')"
   ]
  },
  {
   "cell_type": "markdown",
   "metadata": {},
   "source": [
    "## 5 Conclusions\n",
    "\n",
    "The key results of this data wrangling exercise are:\n",
    "<ol type=\"1\">\n",
    "  <li>Data are loaded from source csv files and standardized to quarterly data</li>\n",
    "  <li>Time series plots and basic statistics provide initial descriptions of the data values and completeness; because the data are published from official sources meant for immediate public consumption, no further cleaning or standardization is needed</li>\n",
    "  <li>The series are merged into a single data frame and stored into a Python native pickle file for future analyses</li>\n",
    "</ol> "
   ]
  },
  {
   "cell_type": "code",
   "execution_count": null,
   "metadata": {},
   "outputs": [],
   "source": []
  }
 ],
 "metadata": {
  "kernelspec": {
   "display_name": "Python 3",
   "language": "python",
   "name": "python3"
  },
  "language_info": {
   "codemirror_mode": {
    "name": "ipython",
    "version": 3
   },
   "file_extension": ".py",
   "mimetype": "text/x-python",
   "name": "python",
   "nbconvert_exporter": "python",
   "pygments_lexer": "ipython3",
   "version": "3.7.4"
  }
 },
 "nbformat": 4,
 "nbformat_minor": 2
}
